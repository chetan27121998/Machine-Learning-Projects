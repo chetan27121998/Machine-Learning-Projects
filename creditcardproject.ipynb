{
 "cells": [
  {
   "cell_type": "code",
   "execution_count": 1,
   "metadata": {
    "executionInfo": {
     "elapsed": 699,
     "status": "ok",
     "timestamp": 1643016170508,
     "user": {
      "displayName": "Chetan Kate",
      "photoUrl": "https://lh3.googleusercontent.com/a/default-user=s64",
      "userId": "14148496702909736816"
     },
     "user_tz": -330
    },
    "id": "5GJtK0udtDZY"
   },
   "outputs": [],
   "source": [
    "import numpy as np\n",
    "import matplotlib.pyplot as plt\n",
    "import pandas as pd\n",
    "import seaborn as sns\n",
    "import warnings\n",
    "warnings.filterwarnings('ignore')"
   ]
  },
  {
   "cell_type": "code",
   "execution_count": 2,
   "metadata": {
    "colab": {
     "base_uri": "https://localhost:8080/",
     "height": 488
    },
    "executionInfo": {
     "elapsed": 4638,
     "status": "ok",
     "timestamp": 1643016175139,
     "user": {
      "displayName": "Chetan Kate",
      "photoUrl": "https://lh3.googleusercontent.com/a/default-user=s64",
      "userId": "14148496702909736816"
     },
     "user_tz": -330
    },
    "id": "hfclFbECee8M",
    "outputId": "6e35a5e2-1937-40cc-f646-01754de1c6f9"
   },
   "outputs": [
    {
     "data": {
      "text/html": [
       "<div>\n",
       "<style scoped>\n",
       "    .dataframe tbody tr th:only-of-type {\n",
       "        vertical-align: middle;\n",
       "    }\n",
       "\n",
       "    .dataframe tbody tr th {\n",
       "        vertical-align: top;\n",
       "    }\n",
       "\n",
       "    .dataframe thead th {\n",
       "        text-align: right;\n",
       "    }\n",
       "</style>\n",
       "<table border=\"1\" class=\"dataframe\">\n",
       "  <thead>\n",
       "    <tr style=\"text-align: right;\">\n",
       "      <th></th>\n",
       "      <th>Time</th>\n",
       "      <th>V1</th>\n",
       "      <th>V2</th>\n",
       "      <th>V3</th>\n",
       "      <th>V4</th>\n",
       "      <th>V5</th>\n",
       "      <th>V6</th>\n",
       "      <th>V7</th>\n",
       "      <th>V8</th>\n",
       "      <th>V9</th>\n",
       "      <th>...</th>\n",
       "      <th>V21</th>\n",
       "      <th>V22</th>\n",
       "      <th>V23</th>\n",
       "      <th>V24</th>\n",
       "      <th>V25</th>\n",
       "      <th>V26</th>\n",
       "      <th>V27</th>\n",
       "      <th>V28</th>\n",
       "      <th>Amount</th>\n",
       "      <th>Class</th>\n",
       "    </tr>\n",
       "  </thead>\n",
       "  <tbody>\n",
       "    <tr>\n",
       "      <th>0</th>\n",
       "      <td>0.0</td>\n",
       "      <td>-1.359807</td>\n",
       "      <td>-0.072781</td>\n",
       "      <td>2.536347</td>\n",
       "      <td>1.378155</td>\n",
       "      <td>-0.338321</td>\n",
       "      <td>0.462388</td>\n",
       "      <td>0.239599</td>\n",
       "      <td>0.098698</td>\n",
       "      <td>0.363787</td>\n",
       "      <td>...</td>\n",
       "      <td>-0.018307</td>\n",
       "      <td>0.277838</td>\n",
       "      <td>-0.110474</td>\n",
       "      <td>0.066928</td>\n",
       "      <td>0.128539</td>\n",
       "      <td>-0.189115</td>\n",
       "      <td>0.133558</td>\n",
       "      <td>-0.021053</td>\n",
       "      <td>149.62</td>\n",
       "      <td>0</td>\n",
       "    </tr>\n",
       "    <tr>\n",
       "      <th>1</th>\n",
       "      <td>0.0</td>\n",
       "      <td>1.191857</td>\n",
       "      <td>0.266151</td>\n",
       "      <td>0.166480</td>\n",
       "      <td>0.448154</td>\n",
       "      <td>0.060018</td>\n",
       "      <td>-0.082361</td>\n",
       "      <td>-0.078803</td>\n",
       "      <td>0.085102</td>\n",
       "      <td>-0.255425</td>\n",
       "      <td>...</td>\n",
       "      <td>-0.225775</td>\n",
       "      <td>-0.638672</td>\n",
       "      <td>0.101288</td>\n",
       "      <td>-0.339846</td>\n",
       "      <td>0.167170</td>\n",
       "      <td>0.125895</td>\n",
       "      <td>-0.008983</td>\n",
       "      <td>0.014724</td>\n",
       "      <td>2.69</td>\n",
       "      <td>0</td>\n",
       "    </tr>\n",
       "    <tr>\n",
       "      <th>2</th>\n",
       "      <td>1.0</td>\n",
       "      <td>-1.358354</td>\n",
       "      <td>-1.340163</td>\n",
       "      <td>1.773209</td>\n",
       "      <td>0.379780</td>\n",
       "      <td>-0.503198</td>\n",
       "      <td>1.800499</td>\n",
       "      <td>0.791461</td>\n",
       "      <td>0.247676</td>\n",
       "      <td>-1.514654</td>\n",
       "      <td>...</td>\n",
       "      <td>0.247998</td>\n",
       "      <td>0.771679</td>\n",
       "      <td>0.909412</td>\n",
       "      <td>-0.689281</td>\n",
       "      <td>-0.327642</td>\n",
       "      <td>-0.139097</td>\n",
       "      <td>-0.055353</td>\n",
       "      <td>-0.059752</td>\n",
       "      <td>378.66</td>\n",
       "      <td>0</td>\n",
       "    </tr>\n",
       "    <tr>\n",
       "      <th>3</th>\n",
       "      <td>1.0</td>\n",
       "      <td>-0.966272</td>\n",
       "      <td>-0.185226</td>\n",
       "      <td>1.792993</td>\n",
       "      <td>-0.863291</td>\n",
       "      <td>-0.010309</td>\n",
       "      <td>1.247203</td>\n",
       "      <td>0.237609</td>\n",
       "      <td>0.377436</td>\n",
       "      <td>-1.387024</td>\n",
       "      <td>...</td>\n",
       "      <td>-0.108300</td>\n",
       "      <td>0.005274</td>\n",
       "      <td>-0.190321</td>\n",
       "      <td>-1.175575</td>\n",
       "      <td>0.647376</td>\n",
       "      <td>-0.221929</td>\n",
       "      <td>0.062723</td>\n",
       "      <td>0.061458</td>\n",
       "      <td>123.50</td>\n",
       "      <td>0</td>\n",
       "    </tr>\n",
       "    <tr>\n",
       "      <th>4</th>\n",
       "      <td>2.0</td>\n",
       "      <td>-1.158233</td>\n",
       "      <td>0.877737</td>\n",
       "      <td>1.548718</td>\n",
       "      <td>0.403034</td>\n",
       "      <td>-0.407193</td>\n",
       "      <td>0.095921</td>\n",
       "      <td>0.592941</td>\n",
       "      <td>-0.270533</td>\n",
       "      <td>0.817739</td>\n",
       "      <td>...</td>\n",
       "      <td>-0.009431</td>\n",
       "      <td>0.798278</td>\n",
       "      <td>-0.137458</td>\n",
       "      <td>0.141267</td>\n",
       "      <td>-0.206010</td>\n",
       "      <td>0.502292</td>\n",
       "      <td>0.219422</td>\n",
       "      <td>0.215153</td>\n",
       "      <td>69.99</td>\n",
       "      <td>0</td>\n",
       "    </tr>\n",
       "    <tr>\n",
       "      <th>...</th>\n",
       "      <td>...</td>\n",
       "      <td>...</td>\n",
       "      <td>...</td>\n",
       "      <td>...</td>\n",
       "      <td>...</td>\n",
       "      <td>...</td>\n",
       "      <td>...</td>\n",
       "      <td>...</td>\n",
       "      <td>...</td>\n",
       "      <td>...</td>\n",
       "      <td>...</td>\n",
       "      <td>...</td>\n",
       "      <td>...</td>\n",
       "      <td>...</td>\n",
       "      <td>...</td>\n",
       "      <td>...</td>\n",
       "      <td>...</td>\n",
       "      <td>...</td>\n",
       "      <td>...</td>\n",
       "      <td>...</td>\n",
       "      <td>...</td>\n",
       "    </tr>\n",
       "    <tr>\n",
       "      <th>284802</th>\n",
       "      <td>172786.0</td>\n",
       "      <td>-11.881118</td>\n",
       "      <td>10.071785</td>\n",
       "      <td>-9.834783</td>\n",
       "      <td>-2.066656</td>\n",
       "      <td>-5.364473</td>\n",
       "      <td>-2.606837</td>\n",
       "      <td>-4.918215</td>\n",
       "      <td>7.305334</td>\n",
       "      <td>1.914428</td>\n",
       "      <td>...</td>\n",
       "      <td>0.213454</td>\n",
       "      <td>0.111864</td>\n",
       "      <td>1.014480</td>\n",
       "      <td>-0.509348</td>\n",
       "      <td>1.436807</td>\n",
       "      <td>0.250034</td>\n",
       "      <td>0.943651</td>\n",
       "      <td>0.823731</td>\n",
       "      <td>0.77</td>\n",
       "      <td>0</td>\n",
       "    </tr>\n",
       "    <tr>\n",
       "      <th>284803</th>\n",
       "      <td>172787.0</td>\n",
       "      <td>-0.732789</td>\n",
       "      <td>-0.055080</td>\n",
       "      <td>2.035030</td>\n",
       "      <td>-0.738589</td>\n",
       "      <td>0.868229</td>\n",
       "      <td>1.058415</td>\n",
       "      <td>0.024330</td>\n",
       "      <td>0.294869</td>\n",
       "      <td>0.584800</td>\n",
       "      <td>...</td>\n",
       "      <td>0.214205</td>\n",
       "      <td>0.924384</td>\n",
       "      <td>0.012463</td>\n",
       "      <td>-1.016226</td>\n",
       "      <td>-0.606624</td>\n",
       "      <td>-0.395255</td>\n",
       "      <td>0.068472</td>\n",
       "      <td>-0.053527</td>\n",
       "      <td>24.79</td>\n",
       "      <td>0</td>\n",
       "    </tr>\n",
       "    <tr>\n",
       "      <th>284804</th>\n",
       "      <td>172788.0</td>\n",
       "      <td>1.919565</td>\n",
       "      <td>-0.301254</td>\n",
       "      <td>-3.249640</td>\n",
       "      <td>-0.557828</td>\n",
       "      <td>2.630515</td>\n",
       "      <td>3.031260</td>\n",
       "      <td>-0.296827</td>\n",
       "      <td>0.708417</td>\n",
       "      <td>0.432454</td>\n",
       "      <td>...</td>\n",
       "      <td>0.232045</td>\n",
       "      <td>0.578229</td>\n",
       "      <td>-0.037501</td>\n",
       "      <td>0.640134</td>\n",
       "      <td>0.265745</td>\n",
       "      <td>-0.087371</td>\n",
       "      <td>0.004455</td>\n",
       "      <td>-0.026561</td>\n",
       "      <td>67.88</td>\n",
       "      <td>0</td>\n",
       "    </tr>\n",
       "    <tr>\n",
       "      <th>284805</th>\n",
       "      <td>172788.0</td>\n",
       "      <td>-0.240440</td>\n",
       "      <td>0.530483</td>\n",
       "      <td>0.702510</td>\n",
       "      <td>0.689799</td>\n",
       "      <td>-0.377961</td>\n",
       "      <td>0.623708</td>\n",
       "      <td>-0.686180</td>\n",
       "      <td>0.679145</td>\n",
       "      <td>0.392087</td>\n",
       "      <td>...</td>\n",
       "      <td>0.265245</td>\n",
       "      <td>0.800049</td>\n",
       "      <td>-0.163298</td>\n",
       "      <td>0.123205</td>\n",
       "      <td>-0.569159</td>\n",
       "      <td>0.546668</td>\n",
       "      <td>0.108821</td>\n",
       "      <td>0.104533</td>\n",
       "      <td>10.00</td>\n",
       "      <td>0</td>\n",
       "    </tr>\n",
       "    <tr>\n",
       "      <th>284806</th>\n",
       "      <td>172792.0</td>\n",
       "      <td>-0.533413</td>\n",
       "      <td>-0.189733</td>\n",
       "      <td>0.703337</td>\n",
       "      <td>-0.506271</td>\n",
       "      <td>-0.012546</td>\n",
       "      <td>-0.649617</td>\n",
       "      <td>1.577006</td>\n",
       "      <td>-0.414650</td>\n",
       "      <td>0.486180</td>\n",
       "      <td>...</td>\n",
       "      <td>0.261057</td>\n",
       "      <td>0.643078</td>\n",
       "      <td>0.376777</td>\n",
       "      <td>0.008797</td>\n",
       "      <td>-0.473649</td>\n",
       "      <td>-0.818267</td>\n",
       "      <td>-0.002415</td>\n",
       "      <td>0.013649</td>\n",
       "      <td>217.00</td>\n",
       "      <td>0</td>\n",
       "    </tr>\n",
       "  </tbody>\n",
       "</table>\n",
       "<p>284807 rows × 31 columns</p>\n",
       "</div>"
      ],
      "text/plain": [
       "            Time         V1         V2        V3        V4        V5  \\\n",
       "0            0.0  -1.359807  -0.072781  2.536347  1.378155 -0.338321   \n",
       "1            0.0   1.191857   0.266151  0.166480  0.448154  0.060018   \n",
       "2            1.0  -1.358354  -1.340163  1.773209  0.379780 -0.503198   \n",
       "3            1.0  -0.966272  -0.185226  1.792993 -0.863291 -0.010309   \n",
       "4            2.0  -1.158233   0.877737  1.548718  0.403034 -0.407193   \n",
       "...          ...        ...        ...       ...       ...       ...   \n",
       "284802  172786.0 -11.881118  10.071785 -9.834783 -2.066656 -5.364473   \n",
       "284803  172787.0  -0.732789  -0.055080  2.035030 -0.738589  0.868229   \n",
       "284804  172788.0   1.919565  -0.301254 -3.249640 -0.557828  2.630515   \n",
       "284805  172788.0  -0.240440   0.530483  0.702510  0.689799 -0.377961   \n",
       "284806  172792.0  -0.533413  -0.189733  0.703337 -0.506271 -0.012546   \n",
       "\n",
       "              V6        V7        V8        V9  ...       V21       V22  \\\n",
       "0       0.462388  0.239599  0.098698  0.363787  ... -0.018307  0.277838   \n",
       "1      -0.082361 -0.078803  0.085102 -0.255425  ... -0.225775 -0.638672   \n",
       "2       1.800499  0.791461  0.247676 -1.514654  ...  0.247998  0.771679   \n",
       "3       1.247203  0.237609  0.377436 -1.387024  ... -0.108300  0.005274   \n",
       "4       0.095921  0.592941 -0.270533  0.817739  ... -0.009431  0.798278   \n",
       "...          ...       ...       ...       ...  ...       ...       ...   \n",
       "284802 -2.606837 -4.918215  7.305334  1.914428  ...  0.213454  0.111864   \n",
       "284803  1.058415  0.024330  0.294869  0.584800  ...  0.214205  0.924384   \n",
       "284804  3.031260 -0.296827  0.708417  0.432454  ...  0.232045  0.578229   \n",
       "284805  0.623708 -0.686180  0.679145  0.392087  ...  0.265245  0.800049   \n",
       "284806 -0.649617  1.577006 -0.414650  0.486180  ...  0.261057  0.643078   \n",
       "\n",
       "             V23       V24       V25       V26       V27       V28  Amount  \\\n",
       "0      -0.110474  0.066928  0.128539 -0.189115  0.133558 -0.021053  149.62   \n",
       "1       0.101288 -0.339846  0.167170  0.125895 -0.008983  0.014724    2.69   \n",
       "2       0.909412 -0.689281 -0.327642 -0.139097 -0.055353 -0.059752  378.66   \n",
       "3      -0.190321 -1.175575  0.647376 -0.221929  0.062723  0.061458  123.50   \n",
       "4      -0.137458  0.141267 -0.206010  0.502292  0.219422  0.215153   69.99   \n",
       "...          ...       ...       ...       ...       ...       ...     ...   \n",
       "284802  1.014480 -0.509348  1.436807  0.250034  0.943651  0.823731    0.77   \n",
       "284803  0.012463 -1.016226 -0.606624 -0.395255  0.068472 -0.053527   24.79   \n",
       "284804 -0.037501  0.640134  0.265745 -0.087371  0.004455 -0.026561   67.88   \n",
       "284805 -0.163298  0.123205 -0.569159  0.546668  0.108821  0.104533   10.00   \n",
       "284806  0.376777  0.008797 -0.473649 -0.818267 -0.002415  0.013649  217.00   \n",
       "\n",
       "        Class  \n",
       "0           0  \n",
       "1           0  \n",
       "2           0  \n",
       "3           0  \n",
       "4           0  \n",
       "...       ...  \n",
       "284802      0  \n",
       "284803      0  \n",
       "284804      0  \n",
       "284805      0  \n",
       "284806      0  \n",
       "\n",
       "[284807 rows x 31 columns]"
      ]
     },
     "execution_count": 2,
     "metadata": {},
     "output_type": "execute_result"
    }
   ],
   "source": [
    "df = pd.read_csv(\"creditcard.csv\")\n",
    "df"
   ]
  },
  {
   "cell_type": "markdown",
   "metadata": {
    "id": "d9O4OOXlTloT"
   },
   "source": [
    "#**Exploatory Data Analysis**"
   ]
  },
  {
   "cell_type": "code",
   "execution_count": 3,
   "metadata": {
    "colab": {
     "base_uri": "https://localhost:8080/",
     "height": 897
    },
    "executionInfo": {
     "elapsed": 10433,
     "status": "ok",
     "timestamp": 1643016185565,
     "user": {
      "displayName": "Chetan Kate",
      "photoUrl": "https://lh3.googleusercontent.com/a/default-user=s64",
      "userId": "14148496702909736816"
     },
     "user_tz": -330
    },
    "id": "70lH-I1rekbA",
    "outputId": "7428c7c0-fbd4-438d-b21a-41bc98f38562"
   },
   "outputs": [
    {
     "data": {
      "image/png": "[encoded data removed]",
      "text/plain": [
       "<Figure size 1080x1080 with 2 Axes>"
      ]
     },
     "metadata": {
      "needs_background": "light"
     },
     "output_type": "display_data"
    }
   ],
   "source": [
    "# Check the null the values\n",
    "plt.figure(figsize=(15,15))\n",
    "sns.heatmap(df.isnull())\n",
    "plt.show()"
   ]
  },
  {
   "cell_type": "code",
   "execution_count": 4,
   "metadata": {
    "colab": {
     "base_uri": "https://localhost:8080/"
    },
    "executionInfo": {
     "elapsed": 46,
     "status": "ok",
     "timestamp": 1643016185568,
     "user": {
      "displayName": "Chetan Kate",
      "photoUrl": "https://lh3.googleusercontent.com/a/default-user=s64",
      "userId": "14148496702909736816"
     },
     "user_tz": -330
    },
    "id": "47hn4CLbe0FX",
    "outputId": "e12d1e53-76ea-4081-bc0b-c66b24a175d6"
   },
   "outputs": [
    {
     "data": {
      "text/plain": [
       "Time      0\n",
       "V1        0\n",
       "V2        0\n",
       "V3        0\n",
       "V4        0\n",
       "V5        0\n",
       "V6        0\n",
       "V7        0\n",
       "V8        0\n",
       "V9        0\n",
       "V10       0\n",
       "V11       0\n",
       "V12       0\n",
       "V13       0\n",
       "V14       0\n",
       "V15       0\n",
       "V16       0\n",
       "V17       0\n",
       "V18       0\n",
       "V19       0\n",
       "V20       0\n",
       "V21       0\n",
       "V22       0\n",
       "V23       0\n",
       "V24       0\n",
       "V25       0\n",
       "V26       0\n",
       "V27       0\n",
       "V28       0\n",
       "Amount    0\n",
       "Class     0\n",
       "dtype: int64"
      ]
     },
     "execution_count": 4,
     "metadata": {},
     "output_type": "execute_result"
    }
   ],
   "source": [
    "df.isnull().sum()"
   ]
  },
  {
   "cell_type": "code",
   "execution_count": 5,
   "metadata": {
    "colab": {
     "base_uri": "https://localhost:8080/"
    },
    "executionInfo": {
     "elapsed": 39,
     "status": "ok",
     "timestamp": 1643016185569,
     "user": {
      "displayName": "Chetan Kate",
      "photoUrl": "https://lh3.googleusercontent.com/a/default-user=s64",
      "userId": "14148496702909736816"
     },
     "user_tz": -330
    },
    "id": "cb5LzJgwfKkd",
    "outputId": "fb28f224-060b-491e-fe00-a65eefd654d6"
   },
   "outputs": [
    {
     "name": "stdout",
     "output_type": "stream",
     "text": [
      "<class 'pandas.core.frame.DataFrame'>\n",
      "RangeIndex: 284807 entries, 0 to 284806\n",
      "Data columns (total 31 columns):\n",
      " #   Column  Non-Null Count   Dtype  \n",
      "---  ------  --------------   -----  \n",
      " 0   Time    284807 non-null  float64\n",
      " 1   V1      284807 non-null  float64\n",
      " 2   V2      284807 non-null  float64\n",
      " 3   V3      284807 non-null  float64\n",
      " 4   V4      284807 non-null  float64\n",
      " 5   V5      284807 non-null  float64\n",
      " 6   V6      284807 non-null  float64\n",
      " 7   V7      284807 non-null  float64\n",
      " 8   V8      284807 non-null  float64\n",
      " 9   V9      284807 non-null  float64\n",
      " 10  V10     284807 non-null  float64\n",
      " 11  V11     284807 non-null  float64\n",
      " 12  V12     284807 non-null  float64\n",
      " 13  V13     284807 non-null  float64\n",
      " 14  V14     284807 non-null  float64\n",
      " 15  V15     284807 non-null  float64\n",
      " 16  V16     284807 non-null  float64\n",
      " 17  V17     284807 non-null  float64\n",
      " 18  V18     284807 non-null  float64\n",
      " 19  V19     284807 non-null  float64\n",
      " 20  V20     284807 non-null  float64\n",
      " 21  V21     284807 non-null  float64\n",
      " 22  V22     284807 non-null  float64\n",
      " 23  V23     284807 non-null  float64\n",
      " 24  V24     284807 non-null  float64\n",
      " 25  V25     284807 non-null  float64\n",
      " 26  V26     284807 non-null  float64\n",
      " 27  V27     284807 non-null  float64\n",
      " 28  V28     284807 non-null  float64\n",
      " 29  Amount  284807 non-null  float64\n",
      " 30  Class   284807 non-null  int64  \n",
      "dtypes: float64(30), int64(1)\n",
      "memory usage: 67.4 MB\n"
     ]
    }
   ],
   "source": [
    "df.info()"
   ]
  },
  {
   "cell_type": "code",
   "execution_count": 6,
   "metadata": {
    "colab": {
     "base_uri": "https://localhost:8080/"
    },
    "executionInfo": {
     "elapsed": 34,
     "status": "ok",
     "timestamp": 1643016185569,
     "user": {
      "displayName": "Chetan Kate",
      "photoUrl": "https://lh3.googleusercontent.com/a/default-user=s64",
      "userId": "14148496702909736816"
     },
     "user_tz": -330
    },
    "id": "PHSRiHzXfpSn",
    "outputId": "d3598b0c-bcaa-4190-db5f-c5c5a80473ac"
   },
   "outputs": [
    {
     "data": {
      "text/plain": [
       "0    284315\n",
       "1       492\n",
       "Name: Class, dtype: int64"
      ]
     },
     "execution_count": 6,
     "metadata": {},
     "output_type": "execute_result"
    }
   ],
   "source": [
    "df[\"Class\"].value_counts()"
   ]
  },
  {
   "cell_type": "code",
   "execution_count": 7,
   "metadata": {
    "colab": {
     "base_uri": "https://localhost:8080/",
     "height": 279
    },
    "executionInfo": {
     "elapsed": 893,
     "status": "ok",
     "timestamp": 1643016186433,
     "user": {
      "displayName": "Chetan Kate",
      "photoUrl": "https://lh3.googleusercontent.com/a/default-user=s64",
      "userId": "14148496702909736816"
     },
     "user_tz": -330
    },
    "id": "GzJ7W90Bf0Bk",
    "outputId": "3a9836fa-dd4d-4791-92ec-7332c70c7bfd"
   },
   "outputs": [
    {
     "data": {
      "image/png": "[encoded data removed]",
      "text/plain": [
       "<Figure size 432x288 with 1 Axes>"
      ]
     },
     "metadata": {
      "needs_background": "light"
     },
     "output_type": "display_data"
    }
   ],
   "source": [
    "sns.countplot(data=df,x=\"Class\")\n",
    "c = df[\"Class\"].value_counts()\n",
    "plt.yticks(c)\n",
    "plt.show()"
   ]
  },
  {
   "cell_type": "markdown",
   "metadata": {
    "id": "TtR9hS0Gehwo"
   },
   "source": [
    "From the above we can see that this dataset is unbalanced data. So, we have to perfrom the Sampling technique to balance the dataset."
   ]
  },
  {
   "cell_type": "markdown",
   "metadata": {
    "id": "9dz6QNckgPFS"
   },
   "source": [
    "data is not balance.\n",
    "\n",
    "1. If you have basicall reducing the majority class that is known as Random Undersampling.\n",
    "2. If you are increasing the minority class that is known as Random over sampling."
   ]
  },
  {
   "cell_type": "markdown",
   "metadata": {
    "id": "lw8fJm-nBXQv"
   },
   "source": [
    "**Scaling and Sampling Technique**\n",
    "\n",
    "We can clearly see that our Dataset contains Time and Amount, which needs to be scaled as the other columns.\n",
    "Also we need to create subsample of the dataframe in order to have an equal amount of Fraud and Non-Fraud Cases."
   ]
  },
  {
   "cell_type": "code",
   "execution_count": 8,
   "metadata": {
    "executionInfo": {
     "elapsed": 18,
     "status": "ok",
     "timestamp": 1643016186435,
     "user": {
      "displayName": "Chetan Kate",
      "photoUrl": "https://lh3.googleusercontent.com/a/default-user=s64",
      "userId": "14148496702909736816"
     },
     "user_tz": -330
    },
    "id": "NQbw-OIGg04y"
   },
   "outputs": [],
   "source": [
    "from sklearn.preprocessing import StandardScaler\n",
    "ss = StandardScaler()"
   ]
  },
  {
   "cell_type": "code",
   "execution_count": 9,
   "metadata": {
    "executionInfo": {
     "elapsed": 16,
     "status": "ok",
     "timestamp": 1643016186437,
     "user": {
      "displayName": "Chetan Kate",
      "photoUrl": "https://lh3.googleusercontent.com/a/default-user=s64",
      "userId": "14148496702909736816"
     },
     "user_tz": -330
    },
    "id": "yRUinfUseK2E"
   },
   "outputs": [],
   "source": [
    "# Applying the Scaling on the columns ' Time ' and ' Amount ' only .\n",
    "df[\"Time\"]= ss.fit_transform(df[[\"Time\"]])\n",
    "df[\"Amount\"] = ss.fit_transform(df[[\"Amount\"]])"
   ]
  },
  {
   "cell_type": "code",
   "execution_count": 10,
   "metadata": {
    "colab": {
     "base_uri": "https://localhost:8080/",
     "height": 488
    },
    "executionInfo": {
     "elapsed": 16,
     "status": "ok",
     "timestamp": 1643016186439,
     "user": {
      "displayName": "Chetan Kate",
      "photoUrl": "https://lh3.googleusercontent.com/a/default-user=s64",
      "userId": "14148496702909736816"
     },
     "user_tz": -330
    },
    "id": "ihUUZYUXevRF",
    "outputId": "8d777d52-b0cb-4794-e550-4fe55e08756b"
   },
   "outputs": [
    {
     "data": {
      "text/html": [
       "<div>\n",
       "<style scoped>\n",
       "    .dataframe tbody tr th:only-of-type {\n",
       "        vertical-align: middle;\n",
       "    }\n",
       "\n",
       "    .dataframe tbody tr th {\n",
       "        vertical-align: top;\n",
       "    }\n",
       "\n",
       "    .dataframe thead th {\n",
       "        text-align: right;\n",
       "    }\n",
       "</style>\n",
       "<table border=\"1\" class=\"dataframe\">\n",
       "  <thead>\n",
       "    <tr style=\"text-align: right;\">\n",
       "      <th></th>\n",
       "      <th>Time</th>\n",
       "      <th>V1</th>\n",
       "      <th>V2</th>\n",
       "      <th>V3</th>\n",
       "      <th>V4</th>\n",
       "      <th>V5</th>\n",
       "      <th>V6</th>\n",
       "      <th>V7</th>\n",
       "      <th>V8</th>\n",
       "      <th>V9</th>\n",
       "      <th>...</th>\n",
       "      <th>V21</th>\n",
       "      <th>V22</th>\n",
       "      <th>V23</th>\n",
       "      <th>V24</th>\n",
       "      <th>V25</th>\n",
       "      <th>V26</th>\n",
       "      <th>V27</th>\n",
       "      <th>V28</th>\n",
       "      <th>Amount</th>\n",
       "      <th>Class</th>\n",
       "    </tr>\n",
       "  </thead>\n",
       "  <tbody>\n",
       "    <tr>\n",
       "      <th>0</th>\n",
       "      <td>-1.996583</td>\n",
       "      <td>-1.359807</td>\n",
       "      <td>-0.072781</td>\n",
       "      <td>2.536347</td>\n",
       "      <td>1.378155</td>\n",
       "      <td>-0.338321</td>\n",
       "      <td>0.462388</td>\n",
       "      <td>0.239599</td>\n",
       "      <td>0.098698</td>\n",
       "      <td>0.363787</td>\n",
       "      <td>...</td>\n",
       "      <td>-0.018307</td>\n",
       "      <td>0.277838</td>\n",
       "      <td>-0.110474</td>\n",
       "      <td>0.066928</td>\n",
       "      <td>0.128539</td>\n",
       "      <td>-0.189115</td>\n",
       "      <td>0.133558</td>\n",
       "      <td>-0.021053</td>\n",
       "      <td>0.244964</td>\n",
       "      <td>0</td>\n",
       "    </tr>\n",
       "    <tr>\n",
       "      <th>1</th>\n",
       "      <td>-1.996583</td>\n",
       "      <td>1.191857</td>\n",
       "      <td>0.266151</td>\n",
       "      <td>0.166480</td>\n",
       "      <td>0.448154</td>\n",
       "      <td>0.060018</td>\n",
       "      <td>-0.082361</td>\n",
       "      <td>-0.078803</td>\n",
       "      <td>0.085102</td>\n",
       "      <td>-0.255425</td>\n",
       "      <td>...</td>\n",
       "      <td>-0.225775</td>\n",
       "      <td>-0.638672</td>\n",
       "      <td>0.101288</td>\n",
       "      <td>-0.339846</td>\n",
       "      <td>0.167170</td>\n",
       "      <td>0.125895</td>\n",
       "      <td>-0.008983</td>\n",
       "      <td>0.014724</td>\n",
       "      <td>-0.342475</td>\n",
       "      <td>0</td>\n",
       "    </tr>\n",
       "    <tr>\n",
       "      <th>2</th>\n",
       "      <td>-1.996562</td>\n",
       "      <td>-1.358354</td>\n",
       "      <td>-1.340163</td>\n",
       "      <td>1.773209</td>\n",
       "      <td>0.379780</td>\n",
       "      <td>-0.503198</td>\n",
       "      <td>1.800499</td>\n",
       "      <td>0.791461</td>\n",
       "      <td>0.247676</td>\n",
       "      <td>-1.514654</td>\n",
       "      <td>...</td>\n",
       "      <td>0.247998</td>\n",
       "      <td>0.771679</td>\n",
       "      <td>0.909412</td>\n",
       "      <td>-0.689281</td>\n",
       "      <td>-0.327642</td>\n",
       "      <td>-0.139097</td>\n",
       "      <td>-0.055353</td>\n",
       "      <td>-0.059752</td>\n",
       "      <td>1.160686</td>\n",
       "      <td>0</td>\n",
       "    </tr>\n",
       "    <tr>\n",
       "      <th>3</th>\n",
       "      <td>-1.996562</td>\n",
       "      <td>-0.966272</td>\n",
       "      <td>-0.185226</td>\n",
       "      <td>1.792993</td>\n",
       "      <td>-0.863291</td>\n",
       "      <td>-0.010309</td>\n",
       "      <td>1.247203</td>\n",
       "      <td>0.237609</td>\n",
       "      <td>0.377436</td>\n",
       "      <td>-1.387024</td>\n",
       "      <td>...</td>\n",
       "      <td>-0.108300</td>\n",
       "      <td>0.005274</td>\n",
       "      <td>-0.190321</td>\n",
       "      <td>-1.175575</td>\n",
       "      <td>0.647376</td>\n",
       "      <td>-0.221929</td>\n",
       "      <td>0.062723</td>\n",
       "      <td>0.061458</td>\n",
       "      <td>0.140534</td>\n",
       "      <td>0</td>\n",
       "    </tr>\n",
       "    <tr>\n",
       "      <th>4</th>\n",
       "      <td>-1.996541</td>\n",
       "      <td>-1.158233</td>\n",
       "      <td>0.877737</td>\n",
       "      <td>1.548718</td>\n",
       "      <td>0.403034</td>\n",
       "      <td>-0.407193</td>\n",
       "      <td>0.095921</td>\n",
       "      <td>0.592941</td>\n",
       "      <td>-0.270533</td>\n",
       "      <td>0.817739</td>\n",
       "      <td>...</td>\n",
       "      <td>-0.009431</td>\n",
       "      <td>0.798278</td>\n",
       "      <td>-0.137458</td>\n",
       "      <td>0.141267</td>\n",
       "      <td>-0.206010</td>\n",
       "      <td>0.502292</td>\n",
       "      <td>0.219422</td>\n",
       "      <td>0.215153</td>\n",
       "      <td>-0.073403</td>\n",
       "      <td>0</td>\n",
       "    </tr>\n",
       "    <tr>\n",
       "      <th>...</th>\n",
       "      <td>...</td>\n",
       "      <td>...</td>\n",
       "      <td>...</td>\n",
       "      <td>...</td>\n",
       "      <td>...</td>\n",
       "      <td>...</td>\n",
       "      <td>...</td>\n",
       "      <td>...</td>\n",
       "      <td>...</td>\n",
       "      <td>...</td>\n",
       "      <td>...</td>\n",
       "      <td>...</td>\n",
       "      <td>...</td>\n",
       "      <td>...</td>\n",
       "      <td>...</td>\n",
       "      <td>...</td>\n",
       "      <td>...</td>\n",
       "      <td>...</td>\n",
       "      <td>...</td>\n",
       "      <td>...</td>\n",
       "      <td>...</td>\n",
       "    </tr>\n",
       "    <tr>\n",
       "      <th>284802</th>\n",
       "      <td>1.641931</td>\n",
       "      <td>-11.881118</td>\n",
       "      <td>10.071785</td>\n",
       "      <td>-9.834783</td>\n",
       "      <td>-2.066656</td>\n",
       "      <td>-5.364473</td>\n",
       "      <td>-2.606837</td>\n",
       "      <td>-4.918215</td>\n",
       "      <td>7.305334</td>\n",
       "      <td>1.914428</td>\n",
       "      <td>...</td>\n",
       "      <td>0.213454</td>\n",
       "      <td>0.111864</td>\n",
       "      <td>1.014480</td>\n",
       "      <td>-0.509348</td>\n",
       "      <td>1.436807</td>\n",
       "      <td>0.250034</td>\n",
       "      <td>0.943651</td>\n",
       "      <td>0.823731</td>\n",
       "      <td>-0.350151</td>\n",
       "      <td>0</td>\n",
       "    </tr>\n",
       "    <tr>\n",
       "      <th>284803</th>\n",
       "      <td>1.641952</td>\n",
       "      <td>-0.732789</td>\n",
       "      <td>-0.055080</td>\n",
       "      <td>2.035030</td>\n",
       "      <td>-0.738589</td>\n",
       "      <td>0.868229</td>\n",
       "      <td>1.058415</td>\n",
       "      <td>0.024330</td>\n",
       "      <td>0.294869</td>\n",
       "      <td>0.584800</td>\n",
       "      <td>...</td>\n",
       "      <td>0.214205</td>\n",
       "      <td>0.924384</td>\n",
       "      <td>0.012463</td>\n",
       "      <td>-1.016226</td>\n",
       "      <td>-0.606624</td>\n",
       "      <td>-0.395255</td>\n",
       "      <td>0.068472</td>\n",
       "      <td>-0.053527</td>\n",
       "      <td>-0.254117</td>\n",
       "      <td>0</td>\n",
       "    </tr>\n",
       "    <tr>\n",
       "      <th>284804</th>\n",
       "      <td>1.641974</td>\n",
       "      <td>1.919565</td>\n",
       "      <td>-0.301254</td>\n",
       "      <td>-3.249640</td>\n",
       "      <td>-0.557828</td>\n",
       "      <td>2.630515</td>\n",
       "      <td>3.031260</td>\n",
       "      <td>-0.296827</td>\n",
       "      <td>0.708417</td>\n",
       "      <td>0.432454</td>\n",
       "      <td>...</td>\n",
       "      <td>0.232045</td>\n",
       "      <td>0.578229</td>\n",
       "      <td>-0.037501</td>\n",
       "      <td>0.640134</td>\n",
       "      <td>0.265745</td>\n",
       "      <td>-0.087371</td>\n",
       "      <td>0.004455</td>\n",
       "      <td>-0.026561</td>\n",
       "      <td>-0.081839</td>\n",
       "      <td>0</td>\n",
       "    </tr>\n",
       "    <tr>\n",
       "      <th>284805</th>\n",
       "      <td>1.641974</td>\n",
       "      <td>-0.240440</td>\n",
       "      <td>0.530483</td>\n",
       "      <td>0.702510</td>\n",
       "      <td>0.689799</td>\n",
       "      <td>-0.377961</td>\n",
       "      <td>0.623708</td>\n",
       "      <td>-0.686180</td>\n",
       "      <td>0.679145</td>\n",
       "      <td>0.392087</td>\n",
       "      <td>...</td>\n",
       "      <td>0.265245</td>\n",
       "      <td>0.800049</td>\n",
       "      <td>-0.163298</td>\n",
       "      <td>0.123205</td>\n",
       "      <td>-0.569159</td>\n",
       "      <td>0.546668</td>\n",
       "      <td>0.108821</td>\n",
       "      <td>0.104533</td>\n",
       "      <td>-0.313249</td>\n",
       "      <td>0</td>\n",
       "    </tr>\n",
       "    <tr>\n",
       "      <th>284806</th>\n",
       "      <td>1.642058</td>\n",
       "      <td>-0.533413</td>\n",
       "      <td>-0.189733</td>\n",
       "      <td>0.703337</td>\n",
       "      <td>-0.506271</td>\n",
       "      <td>-0.012546</td>\n",
       "      <td>-0.649617</td>\n",
       "      <td>1.577006</td>\n",
       "      <td>-0.414650</td>\n",
       "      <td>0.486180</td>\n",
       "      <td>...</td>\n",
       "      <td>0.261057</td>\n",
       "      <td>0.643078</td>\n",
       "      <td>0.376777</td>\n",
       "      <td>0.008797</td>\n",
       "      <td>-0.473649</td>\n",
       "      <td>-0.818267</td>\n",
       "      <td>-0.002415</td>\n",
       "      <td>0.013649</td>\n",
       "      <td>0.514355</td>\n",
       "      <td>0</td>\n",
       "    </tr>\n",
       "  </tbody>\n",
       "</table>\n",
       "<p>284807 rows × 31 columns</p>\n",
       "</div>"
      ],
      "text/plain": [
       "            Time         V1         V2        V3        V4        V5  \\\n",
       "0      -1.996583  -1.359807  -0.072781  2.536347  1.378155 -0.338321   \n",
       "1      -1.996583   1.191857   0.266151  0.166480  0.448154  0.060018   \n",
       "2      -1.996562  -1.358354  -1.340163  1.773209  0.379780 -0.503198   \n",
       "3      -1.996562  -0.966272  -0.185226  1.792993 -0.863291 -0.010309   \n",
       "4      -1.996541  -1.158233   0.877737  1.548718  0.403034 -0.407193   \n",
       "...          ...        ...        ...       ...       ...       ...   \n",
       "284802  1.641931 -11.881118  10.071785 -9.834783 -2.066656 -5.364473   \n",
       "284803  1.641952  -0.732789  -0.055080  2.035030 -0.738589  0.868229   \n",
       "284804  1.641974   1.919565  -0.301254 -3.249640 -0.557828  2.630515   \n",
       "284805  1.641974  -0.240440   0.530483  0.702510  0.689799 -0.377961   \n",
       "284806  1.642058  -0.533413  -0.189733  0.703337 -0.506271 -0.012546   \n",
       "\n",
       "              V6        V7        V8        V9  ...       V21       V22  \\\n",
       "0       0.462388  0.239599  0.098698  0.363787  ... -0.018307  0.277838   \n",
       "1      -0.082361 -0.078803  0.085102 -0.255425  ... -0.225775 -0.638672   \n",
       "2       1.800499  0.791461  0.247676 -1.514654  ...  0.247998  0.771679   \n",
       "3       1.247203  0.237609  0.377436 -1.387024  ... -0.108300  0.005274   \n",
       "4       0.095921  0.592941 -0.270533  0.817739  ... -0.009431  0.798278   \n",
       "...          ...       ...       ...       ...  ...       ...       ...   \n",
       "284802 -2.606837 -4.918215  7.305334  1.914428  ...  0.213454  0.111864   \n",
       "284803  1.058415  0.024330  0.294869  0.584800  ...  0.214205  0.924384   \n",
       "284804  3.031260 -0.296827  0.708417  0.432454  ...  0.232045  0.578229   \n",
       "284805  0.623708 -0.686180  0.679145  0.392087  ...  0.265245  0.800049   \n",
       "284806 -0.649617  1.577006 -0.414650  0.486180  ...  0.261057  0.643078   \n",
       "\n",
       "             V23       V24       V25       V26       V27       V28    Amount  \\\n",
       "0      -0.110474  0.066928  0.128539 -0.189115  0.133558 -0.021053  0.244964   \n",
       "1       0.101288 -0.339846  0.167170  0.125895 -0.008983  0.014724 -0.342475   \n",
       "2       0.909412 -0.689281 -0.327642 -0.139097 -0.055353 -0.059752  1.160686   \n",
       "3      -0.190321 -1.175575  0.647376 -0.221929  0.062723  0.061458  0.140534   \n",
       "4      -0.137458  0.141267 -0.206010  0.502292  0.219422  0.215153 -0.073403   \n",
       "...          ...       ...       ...       ...       ...       ...       ...   \n",
       "284802  1.014480 -0.509348  1.436807  0.250034  0.943651  0.823731 -0.350151   \n",
       "284803  0.012463 -1.016226 -0.606624 -0.395255  0.068472 -0.053527 -0.254117   \n",
       "284804 -0.037501  0.640134  0.265745 -0.087371  0.004455 -0.026561 -0.081839   \n",
       "284805 -0.163298  0.123205 -0.569159  0.546668  0.108821  0.104533 -0.313249   \n",
       "284806  0.376777  0.008797 -0.473649 -0.818267 -0.002415  0.013649  0.514355   \n",
       "\n",
       "        Class  \n",
       "0           0  \n",
       "1           0  \n",
       "2           0  \n",
       "3           0  \n",
       "4           0  \n",
       "...       ...  \n",
       "284802      0  \n",
       "284803      0  \n",
       "284804      0  \n",
       "284805      0  \n",
       "284806      0  \n",
       "\n",
       "[284807 rows x 31 columns]"
      ]
     },
     "execution_count": 10,
     "metadata": {},
     "output_type": "execute_result"
    }
   ],
   "source": [
    "df"
   ]
  },
  {
   "cell_type": "code",
   "execution_count": 11,
   "metadata": {
    "executionInfo": {
     "elapsed": 15,
     "status": "ok",
     "timestamp": 1643016186440,
     "user": {
      "displayName": "Chetan Kate",
      "photoUrl": "https://lh3.googleusercontent.com/a/default-user=s64",
      "userId": "14148496702909736816"
     },
     "user_tz": -330
    },
    "id": "wl9OP1b8gymm"
   },
   "outputs": [],
   "source": [
    "# Selecting the Input and Output\n",
    "X = df.drop(\"Class\",axis=1)  # Input\n",
    "Y = df[\"Class\"]                # Output"
   ]
  },
  {
   "cell_type": "code",
   "execution_count": 12,
   "metadata": {
    "executionInfo": {
     "elapsed": 15,
     "status": "ok",
     "timestamp": 1643016186441,
     "user": {
      "displayName": "Chetan Kate",
      "photoUrl": "https://lh3.googleusercontent.com/a/default-user=s64",
      "userId": "14148496702909736816"
     },
     "user_tz": -330
    },
    "id": "DkqiNVzehCIt"
   },
   "outputs": [],
   "source": [
    "# Train test split the data into 70% - 30%\n",
    "from sklearn.model_selection import train_test_split\n",
    "X_train,X_test,Y_train,Y_test = train_test_split(X,Y,test_size=0.3,random_state=1)"
   ]
  },
  {
   "cell_type": "code",
   "execution_count": 13,
   "metadata": {
    "executionInfo": {
     "elapsed": 624,
     "status": "ok",
     "timestamp": 1643016187051,
     "user": {
      "displayName": "Chetan Kate",
      "photoUrl": "https://lh3.googleusercontent.com/a/default-user=s64",
      "userId": "14148496702909736816"
     },
     "user_tz": -330
    },
    "id": "b1tcDbmLe3tN"
   },
   "outputs": [],
   "source": [
    "# Now applying the Sampling Technique \n",
    "from imblearn.over_sampling import RandomOverSampler\n",
    "# Create the object of RandomOverSampler() class\n",
    "ros = RandomOverSampler()"
   ]
  },
  {
   "cell_type": "code",
   "execution_count": 14,
   "metadata": {
    "executionInfo": {
     "elapsed": 12,
     "status": "ok",
     "timestamp": 1643016187051,
     "user": {
      "displayName": "Chetan Kate",
      "photoUrl": "https://lh3.googleusercontent.com/a/default-user=s64",
      "userId": "14148496702909736816"
     },
     "user_tz": -330
    },
    "id": "ViHSjF69gtAc"
   },
   "outputs": [],
   "source": [
    "# RandomOverSampler() - fit_resample() inbuilt of RandomOverSampler applying on training dataset.\n",
    "X_train1,Y_train1 = ros.fit_resample(X_train,Y_train)"
   ]
  },
  {
   "cell_type": "code",
   "execution_count": 15,
   "metadata": {
    "colab": {
     "base_uri": "https://localhost:8080/"
    },
    "executionInfo": {
     "elapsed": 12,
     "status": "ok",
     "timestamp": 1643016187052,
     "user": {
      "displayName": "Chetan Kate",
      "photoUrl": "https://lh3.googleusercontent.com/a/default-user=s64",
      "userId": "14148496702909736816"
     },
     "user_tz": -330
    },
    "id": "GqxCsk5biYpq",
    "outputId": "8a3edb43-1d87-4fec-c84c-b380e2e07d7e"
   },
   "outputs": [
    {
     "data": {
      "text/plain": [
       "0    199007\n",
       "1       357\n",
       "Name: Class, dtype: int64"
      ]
     },
     "execution_count": 15,
     "metadata": {},
     "output_type": "execute_result"
    }
   ],
   "source": [
    "# Before Applying the Random Over Sampler to the data\n",
    "pd.Series(Y_train).value_counts()"
   ]
  },
  {
   "cell_type": "code",
   "execution_count": 16,
   "metadata": {
    "colab": {
     "base_uri": "https://localhost:8080/"
    },
    "executionInfo": {
     "elapsed": 10,
     "status": "ok",
     "timestamp": 1643016187052,
     "user": {
      "displayName": "Chetan Kate",
      "photoUrl": "https://lh3.googleusercontent.com/a/default-user=s64",
      "userId": "14148496702909736816"
     },
     "user_tz": -330
    },
    "id": "2t-7gWljimVR",
    "outputId": "25066ccd-1a26-439b-a180-3ef7177d4ed9"
   },
   "outputs": [
    {
     "data": {
      "text/plain": [
       "0    199007\n",
       "1    199007\n",
       "Name: Class, dtype: int64"
      ]
     },
     "execution_count": 16,
     "metadata": {},
     "output_type": "execute_result"
    }
   ],
   "source": [
    "# After Applying the RandomOverSampler to the data\n",
    "pd.Series(Y_train1).value_counts()"
   ]
  },
  {
   "cell_type": "code",
   "execution_count": 17,
   "metadata": {
    "executionInfo": {
     "elapsed": 497,
     "status": "ok",
     "timestamp": 1643016187544,
     "user": {
      "displayName": "Chetan Kate",
      "photoUrl": "https://lh3.googleusercontent.com/a/default-user=s64",
      "userId": "14148496702909736816"
     },
     "user_tz": -330
    },
    "id": "9wOgHgbJjWuj"
   },
   "outputs": [],
   "source": [
    "# Now Applying the Random Over Sampler on the testing data.\n",
    "X_test1,Y_test1 = ros.fit_resample(X_test,Y_test)"
   ]
  },
  {
   "cell_type": "code",
   "execution_count": 18,
   "metadata": {
    "colab": {
     "base_uri": "https://localhost:8080/"
    },
    "executionInfo": {
     "elapsed": 17,
     "status": "ok",
     "timestamp": 1643016187546,
     "user": {
      "displayName": "Chetan Kate",
      "photoUrl": "https://lh3.googleusercontent.com/a/default-user=s64",
      "userId": "14148496702909736816"
     },
     "user_tz": -330
    },
    "id": "8s41Mpd9j_zx",
    "outputId": "dbfac96f-b181-4fca-ebdf-b9dfe26ff184"
   },
   "outputs": [
    {
     "data": {
      "text/plain": [
       "0    85308\n",
       "1      135\n",
       "Name: Class, dtype: int64"
      ]
     },
     "execution_count": 18,
     "metadata": {},
     "output_type": "execute_result"
    }
   ],
   "source": [
    "# Before Applying the RandomOverSampler on the data.\n",
    "pd.Series(Y_test).value_counts()"
   ]
  },
  {
   "cell_type": "code",
   "execution_count": 19,
   "metadata": {
    "colab": {
     "base_uri": "https://localhost:8080/"
    },
    "executionInfo": {
     "elapsed": 18,
     "status": "ok",
     "timestamp": 1643016187549,
     "user": {
      "displayName": "Chetan Kate",
      "photoUrl": "https://lh3.googleusercontent.com/a/default-user=s64",
      "userId": "14148496702909736816"
     },
     "user_tz": -330
    },
    "id": "lGHi0dCYkLGf",
    "outputId": "59be9f9e-d021-42d9-c525-a79c34cfbe2d"
   },
   "outputs": [
    {
     "data": {
      "text/plain": [
       "0    85308\n",
       "1    85308\n",
       "Name: Class, dtype: int64"
      ]
     },
     "execution_count": 19,
     "metadata": {},
     "output_type": "execute_result"
    }
   ],
   "source": [
    "# After Applying the RandomOverSampler on the data.\n",
    "pd.Series(Y_test1).value_counts()"
   ]
  },
  {
   "cell_type": "code",
   "execution_count": 20,
   "metadata": {
    "executionInfo": {
     "elapsed": 14,
     "status": "ok",
     "timestamp": 1643016187550,
     "user": {
      "displayName": "Chetan Kate",
      "photoUrl": "https://lh3.googleusercontent.com/a/default-user=s64",
      "userId": "14148496702909736816"
     },
     "user_tz": -330
    },
    "id": "Y_x9qY1v3tzv"
   },
   "outputs": [],
   "source": [
    "# Importing the Class for the Classification Report and Confusion Matrix\n",
    "from sklearn.metrics import classification_report\n",
    "from sklearn.metrics import confusion_matrix"
   ]
  },
  {
   "cell_type": "code",
   "execution_count": 21,
   "metadata": {
    "executionInfo": {
     "elapsed": 14,
     "status": "ok",
     "timestamp": 1643016187551,
     "user": {
      "displayName": "Chetan Kate",
      "photoUrl": "https://lh3.googleusercontent.com/a/default-user=s64",
      "userId": "14148496702909736816"
     },
     "user_tz": -330
    },
    "id": "KwwXKVedkfnB"
   },
   "outputs": [],
   "source": [
    "# Create the function \n",
    "def create_model(model):\n",
    "  model.fit(X_train1,Y_train1)\n",
    "  Y_pred = model.predict(X_test1)\n",
    "  print(\"Classification Report : \")\n",
    "  print(classification_report(Y_test1,Y_pred))\n",
    "  print(\"Confusion Matrix : \")\n",
    "  print(confusion_matrix(Y_test1,Y_pred))\n",
    "  return model"
   ]
  },
  {
   "cell_type": "code",
   "execution_count": 22,
   "metadata": {
    "executionInfo": {
     "elapsed": 14,
     "status": "ok",
     "timestamp": 1643016187552,
     "user": {
      "displayName": "Chetan Kate",
      "photoUrl": "https://lh3.googleusercontent.com/a/default-user=s64",
      "userId": "14148496702909736816"
     },
     "user_tz": -330
    },
    "id": "V3bC9hrQ3_cp"
   },
   "outputs": [],
   "source": [
    "# Importing the LogisticRegression() class\n",
    "from sklearn.linear_model import LogisticRegression\n",
    "lr = LogisticRegression()"
   ]
  },
  {
   "cell_type": "code",
   "execution_count": 24,
   "metadata": {
    "colab": {
     "base_uri": "https://localhost:8080/"
    },
    "executionInfo": {
     "elapsed": 6768,
     "status": "ok",
     "timestamp": 1643016194307,
     "user": {
      "displayName": "Chetan Kate",
      "photoUrl": "https://lh3.googleusercontent.com/a/default-user=s64",
      "userId": "14148496702909736816"
     },
     "user_tz": -330
    },
    "id": "L5_s0Xal4RXp",
    "outputId": "c491e16a-a31c-4ce4-c1bf-8232a03841ac"
   },
   "outputs": [
    {
     "name": "stdout",
     "output_type": "stream",
     "text": [
      "Classification Report : \n",
      "              precision    recall  f1-score   support\n",
      "\n",
      "           0       0.91      0.98      0.94     85308\n",
      "           1       0.98      0.90      0.94     85308\n",
      "\n",
      "    accuracy                           0.94    170616\n",
      "   macro avg       0.94      0.94      0.94    170616\n",
      "weighted avg       0.94      0.94      0.94    170616\n",
      "\n",
      "Confusion Matrix : \n",
      "[[83730  1578]\n",
      " [ 8782 76526]]\n"
     ]
    }
   ],
   "source": [
    "# Call the function \n",
    "lr = create_model(lr)"
   ]
  },
  {
   "cell_type": "markdown",
   "metadata": {
    "id": "6dHfVXdwB4a-"
   },
   "source": [
    "**DecisionTreeClassifier**"
   ]
  },
  {
   "cell_type": "markdown",
   "metadata": {},
   "source": [
    "### Gini Index"
   ]
  },
  {
   "cell_type": "code",
   "execution_count": 25,
   "metadata": {
    "executionInfo": {
     "elapsed": 6,
     "status": "ok",
     "timestamp": 1643016194308,
     "user": {
      "displayName": "Chetan Kate",
      "photoUrl": "https://lh3.googleusercontent.com/a/default-user=s64",
      "userId": "14148496702909736816"
     },
     "user_tz": -330
    },
    "id": "oTF4_6fw4U_-"
   },
   "outputs": [
    {
     "name": "stdout",
     "output_type": "stream",
     "text": [
      "Classification Report : \n",
      "              precision    recall  f1-score   support\n",
      "\n",
      "           0       0.76      1.00      0.86     85308\n",
      "           1       1.00      0.68      0.81     85308\n",
      "\n",
      "    accuracy                           0.84    170616\n",
      "   macro avg       0.88      0.84      0.84    170616\n",
      "weighted avg       0.88      0.84      0.84    170616\n",
      "\n",
      "Confusion Matrix : \n",
      "[[85268    40]\n",
      " [27126 58182]]\n"
     ]
    }
   ],
   "source": [
    "# Now we can use another algorithms of DecisionTreeClassifier.\n",
    "from sklearn.tree import DecisionTreeClassifier\n",
    "# Create the Object of DecisionTreeClassifier\n",
    "dt = DecisionTreeClassifier()\n",
    "\n",
    "\n",
    "\n",
    "# call the function\n",
    "dt = create_model(dt)"
   ]
  },
  {
   "cell_type": "code",
   "execution_count": 26,
   "metadata": {
    "colab": {
     "base_uri": "https://localhost:8080/"
    },
    "executionInfo": {
     "elapsed": 41,
     "status": "ok",
     "timestamp": 1643016208774,
     "user": {
      "displayName": "Chetan Kate",
      "photoUrl": "https://lh3.googleusercontent.com/a/default-user=s64",
      "userId": "14148496702909736816"
     },
     "user_tz": -330
    },
    "id": "jmC06maF5fSk",
    "outputId": "d9896213-b084-4782-afcf-f5bc0ab5ea01"
   },
   "outputs": [
    {
     "data": {
      "text/plain": [
       "array([0.004, 0.008, 0.001, 0.004, 0.054, 0.   , 0.004, 0.   , 0.005,\n",
       "       0.003, 0.011, 0.005, 0.023, 0.   , 0.773, 0.006, 0.007, 0.005,\n",
       "       0.001, 0.008, 0.011, 0.005, 0.012, 0.014, 0.005, 0.003, 0.007,\n",
       "       0.   , 0.001, 0.02 ])"
      ]
     },
     "execution_count": 26,
     "metadata": {},
     "output_type": "execute_result"
    }
   ],
   "source": [
    "# Show the Important Features in data\n",
    "np.round(dt.feature_importances_,3) "
   ]
  },
  {
   "cell_type": "code",
   "execution_count": 27,
   "metadata": {
    "colab": {
     "base_uri": "https://localhost:8080/"
    },
    "executionInfo": {
     "elapsed": 36,
     "status": "ok",
     "timestamp": 1643016208775,
     "user": {
      "displayName": "Chetan Kate",
      "photoUrl": "https://lh3.googleusercontent.com/a/default-user=s64",
      "userId": "14148496702909736816"
     },
     "user_tz": -330
    },
    "id": "iLa94tUC56uQ",
    "outputId": "ca41abb9-d551-43f3-8819-4fe58c555d23"
   },
   "outputs": [
    {
     "data": {
      "text/plain": [
       "Index(['Time', 'V1', 'V2', 'V3', 'V4', 'V5', 'V6', 'V7', 'V8', 'V9', 'V10',\n",
       "       'V11', 'V12', 'V13', 'V14', 'V15', 'V16', 'V17', 'V18', 'V19', 'V20',\n",
       "       'V21', 'V22', 'V23', 'V24', 'V25', 'V26', 'V27', 'V28', 'Amount'],\n",
       "      dtype='object')"
      ]
     },
     "execution_count": 27,
     "metadata": {},
     "output_type": "execute_result"
    }
   ],
   "source": [
    "X.columns"
   ]
  },
  {
   "cell_type": "code",
   "execution_count": 28,
   "metadata": {
    "executionInfo": {
     "elapsed": 34,
     "status": "ok",
     "timestamp": 1643016208777,
     "user": {
      "displayName": "Chetan Kate",
      "photoUrl": "https://lh3.googleusercontent.com/a/default-user=s64",
      "userId": "14148496702909736816"
     },
     "user_tz": -330
    },
    "id": "Vlzmz0ZJ5-3N"
   },
   "outputs": [],
   "source": [
    "# Create the Decision Tree\n",
    "#from sklearn import tree\n",
    "#features = X.columns\n",
    "#fig = plt.figure(figsize=(20,20))\n",
    "#_=tree.plot_tree(dt,feature_names=features,filled=True)"
   ]
  },
  {
   "cell_type": "markdown",
   "metadata": {
    "id": "g9kz7WjL5HQe"
   },
   "source": [
    "But we got the recall score that is 0.70%, which it is not good, reason behind of less score is Overfit means Model is overfit.\n",
    "So, to reduce this Overfitting of data we use pruning technique.\n",
    "\n",
    "\n",
    "1.   max_depth : inbuilt parameter\n",
    "2.   min_sampler_leaf : inbuilt parameter\n",
    "\n"
   ]
  },
  {
   "cell_type": "markdown",
   "metadata": {},
   "source": [
    "### Gini Index with max_depth"
   ]
  },
  {
   "cell_type": "code",
   "execution_count": 29,
   "metadata": {
    "executionInfo": {
     "elapsed": 34,
     "status": "ok",
     "timestamp": 1643016208778,
     "user": {
      "displayName": "Chetan Kate",
      "photoUrl": "https://lh3.googleusercontent.com/a/default-user=s64",
      "userId": "14148496702909736816"
     },
     "user_tz": -330
    },
    "id": "J0nMLf657FJY"
   },
   "outputs": [
    {
     "name": "stdout",
     "output_type": "stream",
     "text": [
      "Classification Report : \n",
      "              precision    recall  f1-score   support\n",
      "\n",
      "           0       0.85      0.98      0.91     85308\n",
      "           1       0.98      0.83      0.90     85308\n",
      "\n",
      "    accuracy                           0.91    170616\n",
      "   macro avg       0.92      0.91      0.91    170616\n",
      "weighted avg       0.92      0.91      0.91    170616\n",
      "\n",
      "Confusion Matrix : \n",
      "[[84025  1283]\n",
      " [14519 70789]]\n"
     ]
    }
   ],
   "source": [
    "# 1. Pruning Technique : max_depth parameter\n",
    "# Again we create the object of DecisionTreeClassifier\n",
    "dt_1 = DecisionTreeClassifier(max_depth=6)  # By default it takes Gini Index\n",
    "# Note : max_depth can not more than 8 \n",
    "\n",
    "# Call the function\n",
    "dt_1 = create_model(dt_1)"
   ]
  },
  {
   "cell_type": "code",
   "execution_count": null,
   "metadata": {},
   "outputs": [],
   "source": [
    "# Show the Important Features in data\n",
    "np.round(dt_1.feature_importances_,3) "
   ]
  },
  {
   "cell_type": "code",
   "execution_count": null,
   "metadata": {},
   "outputs": [],
   "source": [
    "X.columns"
   ]
  },
  {
   "cell_type": "markdown",
   "metadata": {},
   "source": [
    "### Gini Index with min_samples_leaf"
   ]
  },
  {
   "cell_type": "code",
   "execution_count": 30,
   "metadata": {},
   "outputs": [
    {
     "name": "stdout",
     "output_type": "stream",
     "text": [
      "Classification Report : \n",
      "              precision    recall  f1-score   support\n",
      "\n",
      "           0       0.83      1.00      0.91     85308\n",
      "           1       1.00      0.80      0.89     85308\n",
      "\n",
      "    accuracy                           0.90    170616\n",
      "   macro avg       0.91      0.90      0.90    170616\n",
      "weighted avg       0.91      0.90      0.90    170616\n",
      "\n",
      "Confusion Matrix : \n",
      "[[85100   208]\n",
      " [17135 68173]]\n"
     ]
    }
   ],
   "source": [
    "# Create the Obejct for DecisionTreeClassifier() with min_Samples_leaf\n",
    "dt_2 = DecisionTreeClassifier(min_samples_leaf=50)\n",
    "\n",
    "# Call the function \n",
    "dt_2 = create_model(dt_2)"
   ]
  },
  {
   "cell_type": "code",
   "execution_count": null,
   "metadata": {},
   "outputs": [],
   "source": [
    "# Show the Important Features in data\n",
    "np.round(dt_2.feature_importances_,3) "
   ]
  },
  {
   "cell_type": "code",
   "execution_count": null,
   "metadata": {},
   "outputs": [],
   "source": [
    "X.columns"
   ]
  },
  {
   "cell_type": "code",
   "execution_count": 31,
   "metadata": {},
   "outputs": [
    {
     "data": {
      "image/png": "[encoded data removed]",
      "text/plain": [
       "<Figure size 1440x1440 with 1 Axes>"
      ]
     },
     "metadata": {
      "needs_background": "light"
     },
     "output_type": "display_data"
    }
   ],
   "source": [
    "# Create the Decision Tree\n",
    "from sklearn import tree\n",
    "features = X.columns\n",
    "fig = plt.figure(figsize=(20,20))\n",
    "_=tree.plot_tree(dt_1,feature_names=features,filled=True)"
   ]
  },
  {
   "cell_type": "markdown",
   "metadata": {},
   "source": [
    "### Entropy"
   ]
  },
  {
   "cell_type": "code",
   "execution_count": 32,
   "metadata": {},
   "outputs": [
    {
     "name": "stdout",
     "output_type": "stream",
     "text": [
      "Classification Report : \n",
      "              precision    recall  f1-score   support\n",
      "\n",
      "           0       0.77      1.00      0.87     85308\n",
      "           1       1.00      0.70      0.83     85308\n",
      "\n",
      "    accuracy                           0.85    170616\n",
      "   macro avg       0.89      0.85      0.85    170616\n",
      "weighted avg       0.89      0.85      0.85    170616\n",
      "\n",
      "Confusion Matrix : \n",
      "[[85267    41]\n",
      " [25365 59943]]\n"
     ]
    }
   ],
   "source": [
    "# Create the Object of DecisionTreeClassifier\n",
    "dt1 = DecisionTreeClassifier(criterion='entropy')\n",
    "\n",
    "\n",
    "\n",
    "# Call the function \n",
    "dt1 = create_model(dt1)"
   ]
  },
  {
   "cell_type": "code",
   "execution_count": null,
   "metadata": {},
   "outputs": [],
   "source": [
    "# Show the Important Features in data\n",
    "np.round(dt1.feature_importances_,3) "
   ]
  },
  {
   "cell_type": "code",
   "execution_count": null,
   "metadata": {},
   "outputs": [],
   "source": [
    "X.columns"
   ]
  },
  {
   "cell_type": "markdown",
   "metadata": {},
   "source": [
    "### Entropy with max_depth"
   ]
  },
  {
   "cell_type": "code",
   "execution_count": 33,
   "metadata": {},
   "outputs": [
    {
     "name": "stdout",
     "output_type": "stream",
     "text": [
      "Classification Report : \n",
      "              precision    recall  f1-score   support\n",
      "\n",
      "           0       0.84      0.98      0.90     85308\n",
      "           1       0.97      0.81      0.88     85308\n",
      "\n",
      "    accuracy                           0.89    170616\n",
      "   macro avg       0.90      0.89      0.89    170616\n",
      "weighted avg       0.90      0.89      0.89    170616\n",
      "\n",
      "Confusion Matrix : \n",
      "[[83420  1888]\n",
      " [16357 68951]]\n"
     ]
    }
   ],
   "source": [
    "# Create the Object for DecisionTreeClassifier() with entropy and max_Depth\n",
    "dt_3 = DecisionTreeClassifier(criterion=\"entropy\",max_depth=6)\n",
    "\n",
    "# Call the function\n",
    "dt_3 = create_model(dt_3)"
   ]
  },
  {
   "cell_type": "code",
   "execution_count": null,
   "metadata": {},
   "outputs": [],
   "source": [
    "# Show the Important Features in data\n",
    "np.round(dt_3.feature_importances_,3) "
   ]
  },
  {
   "cell_type": "code",
   "execution_count": null,
   "metadata": {},
   "outputs": [],
   "source": [
    "X.columns"
   ]
  },
  {
   "cell_type": "markdown",
   "metadata": {},
   "source": [
    "### Entropy with min_Samples_leaf"
   ]
  },
  {
   "cell_type": "code",
   "execution_count": null,
   "metadata": {},
   "outputs": [],
   "source": [
    "# Create the Object for DecisionTreeClassifier() with entropy and min_samples_leaf\n",
    "dt_4 = DecisionTreeClassifier(criterion=\"entropy\",min_samples_leaf=50)\n",
    "\n",
    "# Call the function\n",
    "dt_4 = create_model(dt_4)"
   ]
  },
  {
   "cell_type": "code",
   "execution_count": null,
   "metadata": {},
   "outputs": [],
   "source": [
    "# Show the Important Features in data\n",
    "np.round(dt_4.feature_importances_,3) "
   ]
  },
  {
   "cell_type": "code",
   "execution_count": null,
   "metadata": {},
   "outputs": [],
   "source": [
    "X.columns"
   ]
  },
  {
   "cell_type": "code",
   "execution_count": 35,
   "metadata": {
    "colab": {
     "base_uri": "https://localhost:8080/",
     "height": 896
    },
    "executionInfo": {
     "elapsed": 2968,
     "status": "ok",
     "timestamp": 1643016219599,
     "user": {
      "displayName": "Chetan Kate",
      "photoUrl": "https://lh3.googleusercontent.com/a/default-user=s64",
      "userId": "14148496702909736816"
     },
     "user_tz": -330
    },
    "id": "mcgRCZTV73Pb",
    "outputId": "0b9c29c5-70c6-4ff3-d775-1c9655fe5b70"
   },
   "outputs": [
    {
     "data": {
      "image/png": "[encoded data removed]",
      "text/plain": [
       "<Figure size 1440x1440 with 1 Axes>"
      ]
     },
     "metadata": {
      "needs_background": "light"
     },
     "output_type": "display_data"
    }
   ],
   "source": [
    "# Create the Decision Tree\n",
    "from sklearn import tree\n",
    "features = X.columns\n",
    "fig = plt.figure(figsize=(20,20))\n",
    "_=tree.plot_tree(dt_3,feature_names=features,filled=True)"
   ]
  },
  {
   "cell_type": "markdown",
   "metadata": {
    "id": "nvJ9WDJk_MaK"
   },
   "source": [
    "**Random Forest Tree**"
   ]
  },
  {
   "cell_type": "code",
   "execution_count": 36,
   "metadata": {
    "colab": {
     "base_uri": "https://localhost:8080/"
    },
    "executionInfo": {
     "elapsed": 22,
     "status": "ok",
     "timestamp": 1643016219601,
     "user": {
      "displayName": "Chetan Kate",
      "photoUrl": "https://lh3.googleusercontent.com/a/default-user=s64",
      "userId": "14148496702909736816"
     },
     "user_tz": -330
    },
    "id": "iCyGsur3_xMr",
    "outputId": "a795bee6-6756-45bc-d792-46c581363ebf"
   },
   "outputs": [
    {
     "data": {
      "text/plain": [
       "(284807, 31)"
      ]
     },
     "execution_count": 36,
     "metadata": {},
     "output_type": "execute_result"
    }
   ],
   "source": [
    "df.shape"
   ]
  },
  {
   "cell_type": "code",
   "execution_count": 37,
   "metadata": {
    "executionInfo": {
     "elapsed": 17,
     "status": "ok",
     "timestamp": 1643016219602,
     "user": {
      "displayName": "Chetan Kate",
      "photoUrl": "https://lh3.googleusercontent.com/a/default-user=s64",
      "userId": "14148496702909736816"
     },
     "user_tz": -330
    },
    "id": "E0FlA4iS_LMz"
   },
   "outputs": [
    {
     "name": "stdout",
     "output_type": "stream",
     "text": [
      "Classification Report : \n",
      "              precision    recall  f1-score   support\n",
      "\n",
      "           0       0.82      1.00      0.90     85308\n",
      "           1       1.00      0.78      0.87     85308\n",
      "\n",
      "    accuracy                           0.89    170616\n",
      "   macro avg       0.91      0.89      0.89    170616\n",
      "weighted avg       0.91      0.89      0.89    170616\n",
      "\n",
      "Confusion Matrix : \n",
      "[[85300     8]\n",
      " [18997 66311]]\n"
     ]
    }
   ],
   "source": [
    "# Importing the RandomForestClassifier class from the library\n",
    "from sklearn.ensemble import RandomForestClassifier\n",
    "# Create the object for the RandomTreeClassifier() class\n",
    "rtc = RandomForestClassifier(n_estimators = 10,max_features =16,random_state=1 )\n",
    "\n",
    "# Call the function \n",
    "rtc = create_model(rtc)"
   ]
  },
  {
   "cell_type": "markdown",
   "metadata": {
    "id": "2qvJsl9OBu7_"
   },
   "source": [
    "**Boosting Technique**"
   ]
  },
  {
   "cell_type": "code",
   "execution_count": 38,
   "metadata": {
    "executionInfo": {
     "elapsed": 11,
     "status": "ok",
     "timestamp": 1643016277192,
     "user": {
      "displayName": "Chetan Kate",
      "photoUrl": "https://lh3.googleusercontent.com/a/default-user=s64",
      "userId": "14148496702909736816"
     },
     "user_tz": -330
    },
    "id": "1cP8nI1oAfyi"
   },
   "outputs": [],
   "source": [
    "# Ada Boosting technique\n",
    "# Importing the adaboostclassifier from the sklearn library\n",
    "from sklearn.ensemble import AdaBoostClassifier\n",
    "# Create the object for the AdaBoostClassifier() class\n",
    "abc = AdaBoostClassifier(n_estimators=80) # n_Estimators should not be more than 100"
   ]
  },
  {
   "cell_type": "code",
   "execution_count": 39,
   "metadata": {
    "colab": {
     "base_uri": "https://localhost:8080/"
    },
    "executionInfo": {
     "elapsed": 166826,
     "status": "ok",
     "timestamp": 1643016444009,
     "user": {
      "displayName": "Chetan Kate",
      "photoUrl": "https://lh3.googleusercontent.com/a/default-user=s64",
      "userId": "14148496702909736816"
     },
     "user_tz": -330
    },
    "id": "ecKOu-BZDi1n",
    "outputId": "80bc14c8-68b1-4ce8-b153-b8d3a8fe13cc"
   },
   "outputs": [
    {
     "name": "stdout",
     "output_type": "stream",
     "text": [
      "Classification Report : \n",
      "              precision    recall  f1-score   support\n",
      "\n",
      "           0       0.88      0.99      0.93     85308\n",
      "           1       0.99      0.86      0.92     85308\n",
      "\n",
      "    accuracy                           0.93    170616\n",
      "   macro avg       0.93      0.93      0.93    170616\n",
      "weighted avg       0.93      0.93      0.93    170616\n",
      "\n",
      "Confusion Matrix : \n",
      "[[84598   710]\n",
      " [11988 73320]]\n"
     ]
    }
   ],
   "source": [
    "# Call the function \n",
    "abc = create_model(abc)"
   ]
  },
  {
   "cell_type": "code",
   "execution_count": 40,
   "metadata": {
    "executionInfo": {
     "elapsed": 11,
     "status": "ok",
     "timestamp": 1643016444010,
     "user": {
      "displayName": "Chetan Kate",
      "photoUrl": "https://lh3.googleusercontent.com/a/default-user=s64",
      "userId": "14148496702909736816"
     },
     "user_tz": -330
    },
    "id": "xcBeWCPPDm4N"
   },
   "outputs": [
    {
     "name": "stdout",
     "output_type": "stream",
     "text": [
      "Classification Report : \n",
      "              precision    recall  f1-score   support\n",
      "\n",
      "           0       0.87      0.99      0.93     85308\n",
      "           1       0.99      0.85      0.92     85308\n",
      "\n",
      "    accuracy                           0.92    170616\n",
      "   macro avg       0.93      0.92      0.92    170616\n",
      "weighted avg       0.93      0.92      0.92    170616\n",
      "\n",
      "Confusion Matrix : \n",
      "[[84747   561]\n",
      " [12597 72711]]\n"
     ]
    }
   ],
   "source": [
    "# Gradient Boosting technique.\n",
    "# Importing the GradientBoostingclassifier form the sklearn library\n",
    "from sklearn.ensemble import GradientBoostingClassifier\n",
    "# Create the object for the GradientBoostingClassifier() class\n",
    "gbc = GradientBoostingClassifier(n_estimators=80)\n",
    "\n",
    "\n",
    "# Call the function \n",
    "gbc = create_model(gbc)"
   ]
  },
  {
   "cell_type": "code",
   "execution_count": 41,
   "metadata": {
    "executionInfo": {
     "elapsed": 11,
     "status": "ok",
     "timestamp": 1643016806053,
     "user": {
      "displayName": "Chetan Kate",
      "photoUrl": "https://lh3.googleusercontent.com/a/default-user=s64",
      "userId": "14148496702909736816"
     },
     "user_tz": -330
    },
    "id": "_TARwfzcFVyT"
   },
   "outputs": [
    {
     "name": "stdout",
     "output_type": "stream",
     "text": [
      "[16:27:02] WARNING: C:/Users/Administrator/workspace/xgboost-win64_release_1.5.1/src/learner.cc:1115: Starting in XGBoost 1.3.0, the default evaluation metric used with the objective 'binary:logistic' was changed from 'error' to 'logloss'. Explicitly set eval_metric if you'd like to restore the old behavior.\n",
      "Classification Report : \n",
      "              precision    recall  f1-score   support\n",
      "\n",
      "           0       0.83      1.00      0.91     85308\n",
      "           1       1.00      0.80      0.89     85308\n",
      "\n",
      "    accuracy                           0.90    170616\n",
      "   macro avg       0.92      0.90      0.90    170616\n",
      "weighted avg       0.92      0.90      0.90    170616\n",
      "\n",
      "Confusion Matrix : \n",
      "[[85293    15]\n",
      " [17051 68257]]\n"
     ]
    }
   ],
   "source": [
    "# Extreme Boosting Technique\n",
    "# First Install the External Library from python\n",
    "# !pip install xgboost\n",
    "# Importing the xgboostclassifier class from the xgboost library\n",
    "from xgboost import XGBClassifier\n",
    "# Create the object of xgboostclassifier() class\n",
    "xgb = XGBClassifier(n_estimators=80,reg_alpha=1)\n",
    "\n",
    "# Call the function\n",
    "xgb = create_model(xgb)"
   ]
  },
  {
   "cell_type": "markdown",
   "metadata": {
    "id": "0y1DDOiIL6mK"
   },
   "source": [
    "**Stacking Techniquie**"
   ]
  },
  {
   "cell_type": "code",
   "execution_count": 42,
   "metadata": {
    "colab": {
     "base_uri": "https://localhost:8080/",
     "height": 356
    },
    "executionInfo": {
     "elapsed": 364,
     "status": "error",
     "timestamp": 1643017213971,
     "user": {
      "displayName": "Chetan Kate",
      "photoUrl": "https://lh3.googleusercontent.com/a/default-user=s64",
      "userId": "14148496702909736816"
     },
     "user_tz": -330
    },
    "id": "tTSjn7zNIU0k",
    "outputId": "6e1fee7a-527c-4bdb-a29d-7857bd201fcc"
   },
   "outputs": [],
   "source": [
    "# First install the library\n",
    "# !pip install mlxtend\n",
    "# StackingClassifier inbuilt class which define the inbuilt package mlxtend.classifier\n",
    "from mlxtend.classifier import StackingClassifier"
   ]
  },
  {
   "cell_type": "code",
   "execution_count": 43,
   "metadata": {
    "executionInfo": {
     "elapsed": 32,
     "status": "aborted",
     "timestamp": 1643016879570,
     "user": {
      "displayName": "Chetan Kate",
      "photoUrl": "https://lh3.googleusercontent.com/a/default-user=s64",
      "userId": "14148496702909736816"
     },
     "user_tz": -330
    },
    "id": "g0WAtOC9NlWY"
   },
   "outputs": [],
   "source": [
    "# Create the object of LogisticRegression, DecisionTree Entropy and Decision Tree Gini\n",
    "#LR = LogisticRegression()\n",
    "#DT1 = DecisionTreeClassifier(criterion='entropy')\n",
    "#DT2 = DecisionTreeClassifier() # any default gini index"
   ]
  },
  {
   "cell_type": "code",
   "execution_count": 44,
   "metadata": {
    "executionInfo": {
     "elapsed": 34,
     "status": "aborted",
     "timestamp": 1643016879573,
     "user": {
      "displayName": "Chetan Kate",
      "photoUrl": "https://lh3.googleusercontent.com/a/default-user=s64",
      "userId": "14148496702909736816"
     },
     "user_tz": -330
    },
    "id": "EmYPyjr5QHbE"
   },
   "outputs": [],
   "source": [
    "# Take the LogisticRegression Algorithnms for the metaclassifier\n",
    "# Also create a object of LogisticRegression\n",
    "meta = LogisticRegression()"
   ]
  },
  {
   "cell_type": "code",
   "execution_count": 45,
   "metadata": {
    "executionInfo": {
     "elapsed": 36,
     "status": "aborted",
     "timestamp": 1643016879575,
     "user": {
      "displayName": "Chetan Kate",
      "photoUrl": "https://lh3.googleusercontent.com/a/default-user=s64",
      "userId": "14148496702909736816"
     },
     "user_tz": -330
    },
    "id": "P9aPf6jKQPTW"
   },
   "outputs": [],
   "source": [
    "# Create the model list\n",
    "model_list = [lr, dt_1,dt_3]\n",
    "# Create the object of StackingClassifier Class and passing the parameters\n",
    "sc = StackingClassifier(classifiers=model_list,meta_classifier=meta)"
   ]
  },
  {
   "cell_type": "code",
   "execution_count": 46,
   "metadata": {
    "executionInfo": {
     "elapsed": 37,
     "status": "aborted",
     "timestamp": 1643016879576,
     "user": {
      "displayName": "Chetan Kate",
      "photoUrl": "https://lh3.googleusercontent.com/a/default-user=s64",
      "userId": "14148496702909736816"
     },
     "user_tz": -330
    },
    "id": "00g605auQVI2"
   },
   "outputs": [
    {
     "name": "stdout",
     "output_type": "stream",
     "text": [
      "Classification Report : \n",
      "              precision    recall  f1-score   support\n",
      "\n",
      "           0       0.85      0.99      0.92     85308\n",
      "           1       0.99      0.83      0.90     85308\n",
      "\n",
      "    accuracy                           0.91    170616\n",
      "   macro avg       0.92      0.91      0.91    170616\n",
      "weighted avg       0.92      0.91      0.91    170616\n",
      "\n",
      "Confusion Matrix : \n",
      "[[84318   990]\n",
      " [14519 70789]]\n"
     ]
    }
   ],
   "source": [
    "# Call the function\n",
    "sc = create_model(sc)"
   ]
  },
  {
   "cell_type": "code",
   "execution_count": 47,
   "metadata": {
    "executionInfo": {
     "elapsed": 36,
     "status": "aborted",
     "timestamp": 1643016879576,
     "user": {
      "displayName": "Chetan Kate",
      "photoUrl": "https://lh3.googleusercontent.com/a/default-user=s64",
      "userId": "14148496702909736816"
     },
     "user_tz": -330
    },
    "id": "bEGrKCocQZTJ"
   },
   "outputs": [],
   "source": [
    "#Linear Kernel function means data is linearly separately\n",
    "#use inbuilt class Linear SVC which define in svm inbuilt package\n",
    "from sklearn.svm import LinearSVC\n",
    "\n",
    "\n",
    "#create the object of LinearSVC class\n",
    "svc=LinearSVC(random_state=1)"
   ]
  },
  {
   "cell_type": "code",
   "execution_count": 48,
   "metadata": {},
   "outputs": [
    {
     "name": "stdout",
     "output_type": "stream",
     "text": [
      "Classification Report : \n",
      "              precision    recall  f1-score   support\n",
      "\n",
      "           0       0.90      0.98      0.94     85308\n",
      "           1       0.98      0.89      0.93     85308\n",
      "\n",
      "    accuracy                           0.94    170616\n",
      "   macro avg       0.94      0.94      0.94    170616\n",
      "weighted avg       0.94      0.94      0.94    170616\n",
      "\n",
      "Confusion Matrix : \n",
      "[[83862  1446]\n",
      " [ 9415 75893]]\n"
     ]
    }
   ],
   "source": [
    "#call function\n",
    "svc=create_model(svc)"
   ]
  },
  {
   "cell_type": "code",
   "execution_count": 49,
   "metadata": {},
   "outputs": [],
   "source": [
    "# Apply soft margin means add externally error on training time \n",
    "# Create the object of inbuilt class LinearSVC and Passing parameter C for error\n",
    "svc1=LinearSVC(random_state=1,C=0.05)  # Soft margin"
   ]
  },
  {
   "cell_type": "code",
   "execution_count": 50,
   "metadata": {},
   "outputs": [
    {
     "name": "stdout",
     "output_type": "stream",
     "text": [
      "Classification Report : \n",
      "              precision    recall  f1-score   support\n",
      "\n",
      "           0       0.89      0.98      0.94     85308\n",
      "           1       0.98      0.88      0.93     85308\n",
      "\n",
      "    accuracy                           0.93    170616\n",
      "   macro avg       0.94      0.93      0.93    170616\n",
      "weighted avg       0.94      0.93      0.93    170616\n",
      "\n",
      "Confusion Matrix : \n",
      "[[83972  1336]\n",
      " [10044 75264]]\n"
     ]
    }
   ],
   "source": [
    "# Call the function\n",
    "svc1 = create_model(svc1)"
   ]
  },
  {
   "cell_type": "code",
   "execution_count": null,
   "metadata": {},
   "outputs": [],
   "source": [
    "# Polynominal kernel function (non-linear)\n",
    "from sklearn.svm import SVC\n",
    "# SVC inbuilt class for non linear data\n",
    "# Create the object of SVC CLASS\n",
    "poly_svc=SVC(random_state=1,kernel='poly')\n",
    "\n",
    "# Call the function\n",
    "poly_svc = create_model(poly_svc)"
   ]
  },
  {
   "attachments": {},
   "cell_type": "markdown",
   "metadata": {},
   "source": [
    "### SUMMARY"
   ]
  },
  {
   "cell_type": "raw",
   "metadata": {},
   "source": [
    "1.) We have tried several models till now with both balanced and imbalanced data. We have noticed most of the models have performed more or less well in terms of  Precision and Recall.\n",
    "\n",
    "2.) So here, to save the banks from high-value fraudulent transactions, we have to focus on a high recall in order to detect actual fraudulent transactions.\n",
    "\n",
    "3.) After performing several models, we have seen that in the balanced dataset with the Logistic regression model  and Support Vector Machine (SVM) has good Precision values and also high Recall.\n",
    "\n",
    "Hence, we can go with the logistic model and Support Vector Machine here. It is also easier to interpret and explain to the business.\n"
   ]
  },
  {
   "cell_type": "code",
   "execution_count": null,
   "metadata": {},
   "outputs": [],
   "source": []
  }
 ],
 "metadata": {
  "colab": {
   "collapsed_sections": [],
   "name": "creditcardproject.ipynb",
   "provenance": []
  },
  "kernelspec": {
   "display_name": "Python 3",
   "language": "python",
   "name": "python3"
  },
  "language_info": {
   "codemirror_mode": {
    "name": "ipython",
    "version": 3
   },
   "file_extension": ".py",
   "mimetype": "text/x-python",
   "name": "python",
   "nbconvert_exporter": "python",
   "pygments_lexer": "ipython3",
   "version": "3.8.8"
  }
 },
 "nbformat": 4,
 "nbformat_minor": 1
}
